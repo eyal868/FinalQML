{
 "cells": [
  {
   "cell_type": "code",
   "execution_count": null,
   "id": "initial_id",
   "metadata": {
    "ExecuteTime": {
     "end_time": "2025-10-06T11:18:00.100810Z",
     "start_time": "2025-10-06T11:17:59.225553Z"
    },
    "collapsed": true
   },
   "outputs": [
    {
     "name": "stdout",
     "output_type": "stream",
     "text": [
      "--- Starting AQC Spectral Gap Analysis ---\n",
      "N_QUBITS: 10\n",
      "NUM_GRAPHS: 200\n",
      "Building H_Initial (Mixer) matrix...\n"
     ]
    },
    {
     "ename": "TypeError",
     "evalue": "eigh() got an unexpected keyword argument 'turbo'",
     "output_type": "error",
     "traceback": [
      "\u001b[31m---------------------------------------------------------------------------\u001b[39m",
      "\u001b[31mTypeError\u001b[39m                                 Traceback (most recent call last)",
      "\u001b[36mCell\u001b[39m\u001b[36m \u001b[39m\u001b[32mIn[2]\u001b[39m\u001b[32m, line 158\u001b[39m\n\u001b[32m    155\u001b[39m     \u001b[38;5;28mprint\u001b[39m(\u001b[33mf\u001b[39m\u001b[33m\"\u001b[39m\u001b[33mData saved to \u001b[39m\u001b[38;5;132;01m{\u001b[39;00mOUTPUT_FILENAME\u001b[38;5;132;01m}\u001b[39;00m\u001b[33m\"\u001b[39m)\n\u001b[32m    157\u001b[39m \u001b[38;5;28;01mif\u001b[39;00m \u001b[34m__name__\u001b[39m == \u001b[33m\"\u001b[39m\u001b[33m__main__\u001b[39m\u001b[33m\"\u001b[39m:\n\u001b[32m--> \u001b[39m\u001b[32m158\u001b[39m     \u001b[43mmain\u001b[49m\u001b[43m(\u001b[49m\u001b[43m)\u001b[49m\n",
      "\u001b[36mCell\u001b[39m\u001b[36m \u001b[39m\u001b[32mIn[2]\u001b[39m\u001b[32m, line 133\u001b[39m, in \u001b[36mmain\u001b[39m\u001b[34m()\u001b[39m\n\u001b[32m    130\u001b[39m H_P = build_H_problem(N_QUBITS, edges)\n\u001b[32m    132\u001b[39m \u001b[38;5;66;03m# Calculate the Minimum Spectral Gap (Delta_min)\u001b[39;00m\n\u001b[32m--> \u001b[39m\u001b[32m133\u001b[39m delta_min = \u001b[43mcalculate_min_gap\u001b[49m\u001b[43m(\u001b[49m\u001b[43mH_B\u001b[49m\u001b[43m,\u001b[49m\u001b[43m \u001b[49m\u001b[43mH_P\u001b[49m\u001b[43m,\u001b[49m\u001b[43m \u001b[49m\u001b[43ms_points\u001b[49m\u001b[43m)\u001b[49m\n\u001b[32m    135\u001b[39m \u001b[38;5;66;03m# Collect data point\u001b[39;00m\n\u001b[32m    136\u001b[39m data.append({\n\u001b[32m    137\u001b[39m     \u001b[33m'\u001b[39m\u001b[33mN\u001b[39m\u001b[33m'\u001b[39m: N_QUBITS,\n\u001b[32m    138\u001b[39m     \u001b[33m'\u001b[39m\u001b[33mGraph_ID\u001b[39m\u001b[33m'\u001b[39m: i + \u001b[32m1\u001b[39m,\n\u001b[32m   (...)\u001b[39m\u001b[32m    141\u001b[39m     \u001b[33m'\u001b[39m\u001b[33mEdges\u001b[39m\u001b[33m'\u001b[39m: \u001b[38;5;28mstr\u001b[39m(edges) \n\u001b[32m    142\u001b[39m })\n",
      "\u001b[36mCell\u001b[39m\u001b[36m \u001b[39m\u001b[32mIn[2]\u001b[39m\u001b[32m, line 84\u001b[39m, in \u001b[36mcalculate_min_gap\u001b[39m\u001b[34m(H_B, H_P, s_points)\u001b[39m\n\u001b[32m     80\u001b[39m H_s = get_aqc_hamiltonian(s, H_B, H_P)\n\u001b[32m     82\u001b[39m \u001b[38;5;66;03m# Use eigh with subset_by_index=(0, 1) for fast calculation of the lowest 2 eigenvalues.\u001b[39;00m\n\u001b[32m     83\u001b[39m \u001b[38;5;66;03m# This is a crucial optimization for larger N.\u001b[39;00m\n\u001b[32m---> \u001b[39m\u001b[32m84\u001b[39m eigenvalues = \u001b[43meigh\u001b[49m\u001b[43m(\u001b[49m\u001b[43mH_s\u001b[49m\u001b[43m,\u001b[49m\u001b[43m \u001b[49m\u001b[43meigvals_only\u001b[49m\u001b[43m=\u001b[49m\u001b[38;5;28;43;01mTrue\u001b[39;49;00m\u001b[43m,\u001b[49m\u001b[43m \u001b[49m\u001b[43msubset_by_index\u001b[49m\u001b[43m=\u001b[49m\u001b[43m(\u001b[49m\u001b[32;43m0\u001b[39;49m\u001b[43m,\u001b[49m\u001b[43m \u001b[49m\u001b[43mk\u001b[49m\u001b[43m-\u001b[49m\u001b[32;43m1\u001b[39;49m\u001b[43m)\u001b[49m\u001b[43m,\u001b[49m\u001b[43m \u001b[49m\u001b[43mturbo\u001b[49m\u001b[43m=\u001b[49m\u001b[38;5;28;43;01mTrue\u001b[39;49;00m\u001b[43m)\u001b[49m\n\u001b[32m     86\u001b[39m E0 = eigenvalues[\u001b[32m0\u001b[39m]\n\u001b[32m     87\u001b[39m E1 = eigenvalues[\u001b[32m1\u001b[39m]\n",
      "\u001b[36mFile \u001b[39m\u001b[32m~/PycharmProjects/NoiseProjects/.venv/lib/python3.13/site-packages/scipy/_lib/_util.py:1233\u001b[39m, in \u001b[36m_apply_over_batch.<locals>.decorator.<locals>.wrapper\u001b[39m\u001b[34m(*args, **kwargs)\u001b[39m\n\u001b[32m   1231\u001b[39m \u001b[38;5;66;03m# Early exit if call is not batched\u001b[39;00m\n\u001b[32m   1232\u001b[39m \u001b[38;5;28;01mif\u001b[39;00m \u001b[38;5;129;01mnot\u001b[39;00m \u001b[38;5;28many\u001b[39m(batch_shapes):\n\u001b[32m-> \u001b[39m\u001b[32m1233\u001b[39m     \u001b[38;5;28;01mreturn\u001b[39;00m \u001b[43mf\u001b[49m\u001b[43m(\u001b[49m\u001b[43m*\u001b[49m\u001b[43marrays\u001b[49m\u001b[43m,\u001b[49m\u001b[43m \u001b[49m\u001b[43m*\u001b[49m\u001b[43mother_args\u001b[49m\u001b[43m,\u001b[49m\u001b[43m \u001b[49m\u001b[43m*\u001b[49m\u001b[43m*\u001b[49m\u001b[43mkwargs\u001b[49m\u001b[43m)\u001b[49m\n\u001b[32m   1235\u001b[39m \u001b[38;5;66;03m# Determine broadcasted batch shape\u001b[39;00m\n\u001b[32m   1236\u001b[39m batch_shape = np.broadcast_shapes(*batch_shapes)  \u001b[38;5;66;03m# Gives OK error message\u001b[39;00m\n",
      "\u001b[31mTypeError\u001b[39m: eigh() got an unexpected keyword argument 'turbo'"
     ]
    }
   ],
   "source": [
    "# =========================================================================\n",
    "# Spectral Gap Analysis for Random 3-Regular Graphs\n",
    "# =========================================================================\n",
    "# Research Goal: Analyze the minimum energy gap (Δ_min) of the Adiabatic \n",
    "# Quantum Computing (AQC) Hamiltonian H(s) for Max-Cut on 3-regular graphs.\n",
    "# This data will be used to study the connection between Δ_min and QAOA \n",
    "# performance, where AQC runtime scales as T ∝ 1/(Δ_min)^2.\n",
    "# =========================================================================\n",
    "\n",
    "import numpy as np\n",
    "import networkx as nx\n",
    "from scipy.linalg import eigh\n",
    "import pandas as pd\n",
    "import time\n",
    "from typing import List, Tuple\n",
    "\n",
    "print(\"=\" * 70)\n",
    "print(\"  AQC SPECTRAL GAP ANALYSIS FOR RANDOM 3-REGULAR GRAPHS\")\n",
    "print(\"=\" * 70)"
   ]
  },
  {
   "cell_type": "markdown",
   "id": "54529936",
   "metadata": {},
   "source": [
    "## 1. Configuration Parameters\n",
    "\n",
    "Set the computational parameters for the spectral gap analysis:\n",
    "- **N_QUBITS**: Number of qubits/nodes (max 10 for computational efficiency)\n",
    "- **NUM_GRAPHS**: Number of random graph instances to analyze\n",
    "- **S_RESOLUTION**: Number of interpolation points in s ∈ [0,1]\n"
   ]
  },
  {
   "cell_type": "code",
   "execution_count": null,
   "id": "d221adec",
   "metadata": {},
   "outputs": [],
   "source": [
    "# Configuration Settings\n",
    "N_QUBITS = 10          # Maximum number of qubits (nodes in the graph)\n",
    "NUM_GRAPHS = 200       # Number of random 3-regular graph instances\n",
    "S_RESOLUTION = 200     # Number of points to sample along s ∈ [0, 1]\n",
    "\n",
    "# Output filename\n",
    "OUTPUT_FILENAME = f'Delta_min_3_regular_N{N_QUBITS}_{NUM_GRAPHS}graphs.csv'\n",
    "\n",
    "# Validate configuration\n",
    "if N_QUBITS % 2 != 0:\n",
    "    print(f\"⚠️  WARNING: N={N_QUBITS} is odd. For 3-regular graphs, N should be even.\")\n",
    "    \n",
    "print(f\"✓ Configuration loaded:\")\n",
    "print(f\"  - N_QUBITS: {N_QUBITS}\")\n",
    "print(f\"  - NUM_GRAPHS: {NUM_GRAPHS}\")\n",
    "print(f\"  - S_RESOLUTION: {S_RESOLUTION}\")\n",
    "print(f\"  - Hilbert space dimension: 2^{N_QUBITS} = {2**N_QUBITS}\")\n",
    "print(f\"  - Output file: {OUTPUT_FILENAME}\")\n"
   ]
  },
  {
   "cell_type": "markdown",
   "id": "b8e5297c",
   "metadata": {},
   "source": [
    "## 2. Pauli Matrices\n",
    "\n",
    "Define the single-qubit Pauli operators that will be used to construct the many-body Hamiltonians.\n"
   ]
  },
  {
   "cell_type": "code",
   "execution_count": null,
   "id": "635cdad4",
   "metadata": {},
   "outputs": [],
   "source": [
    "# Define single-qubit Pauli matrices\n",
    "SIGMA_X = np.array([[0, 1], \n",
    "                     [1, 0]], dtype=complex)\n",
    "\n",
    "SIGMA_Z = np.array([[1, 0], \n",
    "                     [0, -1]], dtype=complex)\n",
    "\n",
    "IDENTITY = np.eye(2, dtype=complex)\n",
    "\n",
    "print(\"✓ Pauli matrices defined:\")\n",
    "print(f\"  σ_x:\\n{SIGMA_X}\")\n",
    "print(f\"  σ_z:\\n{SIGMA_Z}\")\n"
   ]
  },
  {
   "cell_type": "markdown",
   "id": "ed71396c",
   "metadata": {},
   "source": [
    "## 3. Hamiltonian Construction Functions\n",
    "\n",
    "Build the AQC Hamiltonian components:\n",
    "- **H_initial**: The transverse field (mixer) Hamiltonian = -∑ᵢ X̂ᵢ\n",
    "- **H_problem**: The Max-Cut (cost) Hamiltonian = ∑₍ᵢ,ⱼ₎∈E ẐᵢẐⱼ\n",
    "- **H(s)**: The interpolated Hamiltonian = (1-s)H_initial + s·H_problem\n"
   ]
  }
 ],
 "metadata": {
  "kernelspec": {
   "display_name": "Python 3",
   "language": "python",
   "name": "python3"
  },
  "language_info": {
   "codemirror_mode": {
    "name": "ipython",
    "version": 2
   },
   "file_extension": ".py",
   "mimetype": "text/x-python",
   "name": "python",
   "nbconvert_exporter": "python",
   "pygments_lexer": "ipython2",
   "version": "2.7.6"
  }
 },
 "nbformat": 4,
 "nbformat_minor": 5
}
