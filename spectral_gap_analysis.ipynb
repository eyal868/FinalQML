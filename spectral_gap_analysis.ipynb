{
  "cells": [
    {
      "cell_type": "markdown",
      "metadata": {},
      "source": [
        "# Spectral Gap Analysis for Random 3-Regular Graphs\n",
        "\n",
        "**Research Goal:** Analyze the minimum energy gap (Δ_min) of the Adiabatic Quantum Computing (AQC) Hamiltonian H(s) for Max-Cut on 3-regular graphs.\n",
        "\n",
        "This notebook will generate data to study the connection between Δ_min and QAOA performance, where AQC runtime scales as **T ∝ 1/(Δ_min)²**.\n"
      ]
    },
    {
      "cell_type": "code",
      "execution_count": null,
      "metadata": {},
      "outputs": [],
      "source": [
        "import numpy as np\n",
        "import networkx as nx\n",
        "from scipy.linalg import eigh\n",
        "import pandas as pd\n",
        "import time\n",
        "from typing import List, Tuple\n",
        "\n",
        "print(\"=\" * 70)\n",
        "print(\"  AQC SPECTRAL GAP ANALYSIS FOR RANDOM 3-REGULAR GRAPHS\")\n",
        "print(\"=\" * 70)\n"
      ]
    },
    {
      "cell_type": "markdown",
      "metadata": {},
      "source": [
        "## 1. Configuration Parameters\n"
      ]
    },
    {
      "cell_type": "code",
      "execution_count": null,
      "metadata": {},
      "outputs": [],
      "source": [
        "N_QUBITS = 10          # Maximum number of qubits (nodes in the graph)\n",
        "NUM_GRAPHS = 200       # Number of random 3-regular graph instances\n",
        "S_RESOLUTION = 200     # Number of points to sample along s ∈ [0, 1]\n",
        "\n",
        "OUTPUT_FILENAME = f'Delta_min_3_regular_N{N_QUBITS}_{NUM_GRAPHS}graphs.csv'\n",
        "\n",
        "if N_QUBITS % 2 != 0:\n",
        "    print(f\"⚠️  WARNING: N={N_QUBITS} is odd. 3-regular graphs require N to be even.\")\n",
        "    \n",
        "print(f\"✓ Configuration:\")\n",
        "print(f\"  • N_QUBITS: {N_QUBITS}\")\n",
        "print(f\"  • NUM_GRAPHS: {NUM_GRAPHS}\")\n",
        "print(f\"  • S_RESOLUTION: {S_RESOLUTION}\")\n",
        "print(f\"  • Hilbert space: 2^{N_QUBITS} = {2**N_QUBITS}\")\n",
        "print(f\"  • Output: {OUTPUT_FILENAME}\")\n"
      ]
    },
    {
      "cell_type": "markdown",
      "metadata": {},
      "source": [
        "## 2. Pauli Matrices and Hamiltonian Construction\n"
      ]
    },
    {
      "cell_type": "code",
      "execution_count": null,
      "metadata": {},
      "outputs": [],
      "source": [
        "# Define Pauli matrices\n",
        "SIGMA_X = np.array([[0, 1], [1, 0]], dtype=complex)\n",
        "SIGMA_Z = np.array([[1, 0], [0, -1]], dtype=complex)\n",
        "IDENTITY = np.eye(2, dtype=complex)\n",
        "\n",
        "def pauli_tensor_product(op_list: List[np.ndarray]) -> np.ndarray:\n",
        "    \"\"\"Computes tensor product of 2x2 matrices using np.kron.\"\"\"\n",
        "    result = op_list[0]\n",
        "    for op in op_list[1:]:\n",
        "        result = np.kron(result, op)\n",
        "    return result\n",
        "\n",
        "def get_pauli_term(N: int, pauli_type: str, index1: int, index2: int = -1) -> np.ndarray:\n",
        "    \"\"\"Generates N-qubit operator (X_i or Z_i⊗Z_j) as 2^N × 2^N matrix.\"\"\"\n",
        "    operators = [IDENTITY] * N\n",
        "    \n",
        "    if pauli_type == 'X':\n",
        "        operators[index1] = SIGMA_X\n",
        "    elif pauli_type == 'ZZ':\n",
        "        operators[index1] = SIGMA_Z\n",
        "        operators[index2] = SIGMA_Z\n",
        "    \n",
        "    return pauli_tensor_product(operators)\n",
        "\n",
        "def build_H_initial(N: int) -> np.ndarray:\n",
        "    \"\"\"Builds Initial Hamiltonian: H_initial = -∑ᵢ X̂ᵢ (transverse field).\"\"\"\n",
        "    H_B = np.zeros((2**N, 2**N), dtype=complex)\n",
        "    for i in range(N):\n",
        "        H_B += get_pauli_term(N, 'X', i)\n",
        "    return -H_B\n",
        "\n",
        "def build_H_problem(N: int, edges: List[Tuple[int, int]]) -> np.ndarray:\n",
        "    \"\"\"Builds Problem Hamiltonian: H_problem = ∑₍ᵢ,ⱼ₎∈E ẐᵢẐⱼ (Max-Cut).\"\"\"\n",
        "    H_P = np.zeros((2**N, 2**N), dtype=complex)\n",
        "    for u, v in edges:\n",
        "        H_P += get_pauli_term(N, 'ZZ', u, v)\n",
        "    return H_P\n",
        "\n",
        "def get_aqc_hamiltonian(s: float, H_B: np.ndarray, H_P: np.ndarray) -> np.ndarray:\n",
        "    \"\"\"Returns H(s) = (1-s)·H_initial + s·H_problem.\"\"\"\n",
        "    return (1 - s) * H_B + s * H_P\n",
        "\n",
        "print(\"✓ Hamiltonian construction functions defined\")\n"
      ]
    },
    {
      "cell_type": "markdown",
      "metadata": {},
      "source": [
        "## 3. Spectral Gap Calculation Function\n"
      ]
    },
    {
      "cell_type": "code",
      "execution_count": null,
      "metadata": {},
      "outputs": [],
      "source": [
        "def calculate_min_gap(H_B: np.ndarray, H_P: np.ndarray, s_points: np.ndarray) -> Tuple[float, float]:\n",
        "    \"\"\"\n",
        "    Calculates minimum spectral gap Δ_min = min_s[E₁(s) - E₀(s)].\n",
        "    \n",
        "    Uses scipy.linalg.eigh with subset_by_index=(0,1) for optimal performance.\n",
        "    \n",
        "    Returns:\n",
        "        Tuple of (min_gap, s_at_min_gap)\n",
        "    \"\"\"\n",
        "    min_gap = np.inf\n",
        "    s_at_min = 0.0\n",
        "    \n",
        "    for s in s_points:\n",
        "        H_s = get_aqc_hamiltonian(s, H_B, H_P)\n",
        "        \n",
        "        # Compute only the two lowest eigenvalues (E₀, E₁)\n",
        "        # This is MUCH faster than computing all eigenvalues\n",
        "        eigenvalues = eigh(H_s, eigvals_only=True, subset_by_index=(0, 1))\n",
        "        \n",
        "        gap = eigenvalues[1] - eigenvalues[0]\n",
        "        \n",
        "        if gap < min_gap:\n",
        "            min_gap = gap\n",
        "            s_at_min = s\n",
        "    \n",
        "    return float(min_gap), float(s_at_min)\n",
        "\n",
        "print(\"✓ Spectral gap calculation function defined\")\n"
      ]
    },
    {
      "cell_type": "markdown",
      "metadata": {},
      "source": [
        "## 4. Main Analysis Loop\n"
      ]
    },
    {
      "cell_type": "code",
      "execution_count": null,
      "metadata": {},
      "outputs": [],
      "source": [
        "# Initialize\n",
        "s_points = np.linspace(0.0, 1.0, S_RESOLUTION)\n",
        "data = []\n",
        "\n",
        "# Pre-build H_initial (same for all graphs)\n",
        "print(f\"🔨 Building H_initial matrix ({2**N_QUBITS}×{2**N_QUBITS})...\")\n",
        "H_B = build_H_initial(N_QUBITS)\n",
        "print(\"   ✓ Done\\n\")\n",
        "\n",
        "# Start analysis\n",
        "start_time = time.time()\n",
        "print(f\"🚀 Processing {NUM_GRAPHS} random 3-regular graphs...\")\n",
        "print(\"-\" * 70)\n",
        "\n",
        "for i in range(NUM_GRAPHS):\n",
        "    # Generate random 3-regular graph\n",
        "    try:\n",
        "        G = nx.random_regular_graph(d=3, n=N_QUBITS)\n",
        "    except nx.NetworkXError as e:\n",
        "        print(f\"❌ Error generating graph {i+1}: {e}\")\n",
        "        continue\n",
        "    \n",
        "    edges = list(G.edges())\n",
        "    \n",
        "    # Build problem Hamiltonian for this graph\n",
        "    H_P = build_H_problem(N_QUBITS, edges)\n",
        "    \n",
        "    # Calculate minimum spectral gap\n",
        "    delta_min, s_min = calculate_min_gap(H_B, H_P, s_points)\n",
        "    \n",
        "    # Store results\n",
        "    data.append({\n",
        "        'N': N_QUBITS,\n",
        "        'Graph_ID': i + 1,\n",
        "        'Delta_min': delta_min,\n",
        "        's_at_min': s_min,\n",
        "        'Edges': str(edges)\n",
        "    })\n",
        "    \n",
        "    # Progress report every 10 graphs\n",
        "    if (i + 1) % 10 == 0:\n",
        "        elapsed = time.time() - start_time\n",
        "        avg_time = elapsed / (i + 1)\n",
        "        eta = avg_time * (NUM_GRAPHS - i - 1)\n",
        "        print(f\"  [{i+1:3d}/{NUM_GRAPHS}] Δ_min={delta_min:.6f} at s={s_min:.3f} | \"\n",
        "              f\"Time: {elapsed:.1f}s | ETA: {eta:.1f}s\")\n",
        "\n",
        "total_time = time.time() - start_time\n",
        "print(\"-\" * 70)\n",
        "print(f\"\\n✅ Analysis complete in {total_time:.2f}s ({total_time/60:.2f} min)\")\n"
      ]
    },
    {
      "cell_type": "markdown",
      "metadata": {},
      "source": [
        "## 5. Save Results and Display Statistics\n"
      ]
    },
    {
      "cell_type": "code",
      "execution_count": null,
      "metadata": {},
      "outputs": [],
      "source": [
        "# Create DataFrame and save to CSV\n",
        "df = pd.DataFrame(data)\n",
        "df.to_csv(OUTPUT_FILENAME, index=False)\n",
        "\n",
        "# Display statistics\n",
        "print(f\"💾 Results saved to: {OUTPUT_FILENAME}\\n\")\n",
        "print(\"📈 STATISTICS:\")\n",
        "print(f\"   • Graphs processed: {len(data)}\")\n",
        "print(f\"   • Mean Δ_min: {df['Delta_min'].mean():.6f}\")\n",
        "print(f\"   • Std Δ_min: {df['Delta_min'].std():.6f}\")\n",
        "print(f\"   • Min Δ_min: {df['Delta_min'].min():.6f}\")\n",
        "print(f\"   • Max Δ_min: {df['Delta_min'].max():.6f}\")\n",
        "print(f\"   • Median Δ_min: {df['Delta_min'].median():.6f}\")\n",
        "\n",
        "# Display first few rows\n",
        "print(f\"\\n📋 First 5 rows of data:\")\n",
        "df.head()\n"
      ]
    },
    {
      "cell_type": "markdown",
      "metadata": {},
      "source": [
        "## 6. (Optional) Visualization\n",
        "\n",
        "Visualize the distribution of minimum spectral gaps across the ensemble.\n"
      ]
    },
    {
      "cell_type": "code",
      "execution_count": null,
      "metadata": {},
      "outputs": [],
      "source": [
        "import matplotlib.pyplot as plt\n",
        "\n",
        "fig, axes = plt.subplots(1, 2, figsize=(14, 5))\n",
        "\n",
        "# Histogram of Δ_min\n",
        "axes[0].hist(df['Delta_min'], bins=30, edgecolor='black', alpha=0.7)\n",
        "axes[0].set_xlabel('Δ_min', fontsize=12)\n",
        "axes[0].set_ylabel('Frequency', fontsize=12)\n",
        "axes[0].set_title(f'Distribution of Minimum Spectral Gaps (N={N_QUBITS})', fontsize=14)\n",
        "axes[0].grid(alpha=0.3)\n",
        "\n",
        "# Histogram of s_at_min\n",
        "axes[1].hist(df['s_at_min'], bins=30, edgecolor='black', alpha=0.7, color='orange')\n",
        "axes[1].set_xlabel('s at Δ_min', fontsize=12)\n",
        "axes[1].set_ylabel('Frequency', fontsize=12)\n",
        "axes[1].set_title('Distribution of s where Δ_min occurs', fontsize=14)\n",
        "axes[1].grid(alpha=0.3)\n",
        "\n",
        "plt.tight_layout()\n",
        "plt.show()\n",
        "\n",
        "print(f\"📊 Mean s at minimum gap: {df['s_at_min'].mean():.3f}\")\n"
      ]
    }
  ],
  "metadata": {
    "language_info": {
      "name": "python"
    }
  },
  "nbformat": 4,
  "nbformat_minor": 2
}
